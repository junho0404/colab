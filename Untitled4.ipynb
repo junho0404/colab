{
  "nbformat": 4,
  "nbformat_minor": 0,
  "metadata": {
    "colab": {
      "name": "Untitled4.ipynb",
      "provenance": [],
      "authorship_tag": "ABX9TyNeFIHKyjUhz2indjZ4xUm2",
      "include_colab_link": true
    },
    "kernelspec": {
      "name": "python3",
      "display_name": "Python 3"
    },
    "language_info": {
      "name": "python"
    }
  },
  "cells": [
    {
      "cell_type": "markdown",
      "metadata": {
        "id": "view-in-github",
        "colab_type": "text"
      },
      "source": [
        "<a href=\"https://colab.research.google.com/github/junho0404/colab/blob/main/Untitled4.ipynb\" target=\"_parent\"><img src=\"https://colab.research.google.com/assets/colab-badge.svg\" alt=\"Open In Colab\"/></a>"
      ]
    },
    {
      "cell_type": "code",
      "execution_count": null,
      "metadata": {
        "colab": {
          "base_uri": "https://localhost:8080/"
        },
        "id": "cjf0yYgU4DRi",
        "outputId": "745b613a-9ddc-4253-f555-18a7f1d46564"
      },
      "outputs": [
        {
          "output_type": "stream",
          "name": "stdout",
          "text": [
            "가수 이름을 입력 : 트와이스\n",
            "스이와트\n"
          ]
        }
      ],
      "source": [
        "singer = input(\"가수 이름을 입력 : \")\n",
        "singer_length = len(singer)\n",
        "#print(singer_length)\n",
        "r_singer= \"\"\n",
        "while singer_length > 0 :\n",
        "  r_singer = r_singer + singer[singer_length-1]\n",
        "  singer_length = singer_length -1\n",
        "print(r_singer)"
      ]
    },
    {
      "cell_type": "code",
      "source": [
        "singer = input(\"대소문자 변환 프로그램 : \")\n",
        "singer_length = len(singer)\n",
        "#print(singer_length)\n",
        "r_singer= \"\"\n",
        "while singer_length > 0 :\n",
        "  r_singer = r_singer + singer[singer_length-1]\n",
        "  singer_length = singer_length -1\n",
        "print(r_singer)"
      ],
      "metadata": {
        "colab": {
          "base_uri": "https://localhost:8080/"
        },
        "id": "4ZArx4xl40MH",
        "outputId": "8f168a8d-a761-45e1-f14d-4b0d50dec6fe"
      },
      "execution_count": null,
      "outputs": [
        {
          "output_type": "stream",
          "name": "stdout",
          "text": [
            "대소문자 변환 프로그램 : Python\n",
            "nohtyP\n"
          ]
        }
      ]
    },
    {
      "cell_type": "code",
      "source": [
        "text = \"Python\"\n",
        "change_text= text[0].lower() +text[1].upper() +text[2].upper() +text[3].upper() +text[4].upper() + text[5].upper()\n",
        "print(\"원본 문자열은 ==>\", text)\n",
        "print(\"변환 문자열은 ==>\", change_text)"
      ],
      "metadata": {
        "colab": {
          "base_uri": "https://localhost:8080/"
        },
        "id": "CA6Q6a0WS_KZ",
        "outputId": "35191aff-985d-436e-d6f6-930ddd3c0a67"
      },
      "execution_count": null,
      "outputs": [
        {
          "output_type": "stream",
          "name": "stdout",
          "text": [
            "원본 문자열은 ==> Python\n",
            "변환 문자열은 ==> pYTHON\n"
          ]
        }
      ]
    },
    {
      "cell_type": "code",
      "source": [
        "ss = \"Python\"\n",
        "print(\"원본 문자열 ==>\", ss)\n",
        "\n",
        "ss2=\"\"\n",
        "\n",
        "ss2+= ss[0].lower()\n",
        "ss2+= ss[1].upper()\n",
        "ss2+= ss[2].upper()\n",
        "ss2+= ss[3].upper()\n",
        "ss2+= ss[4].upper()\n",
        "ss2+= ss[5].upper()\n",
        "\n",
        "print(\"변환 문지열==>\", end='')\n",
        "print(ss2)"
      ],
      "metadata": {
        "id": "aWcwMe1PVk6b",
        "outputId": "463e564e-1a8c-451d-e624-5bbf6260333b",
        "colab": {
          "base_uri": "https://localhost:8080/"
        }
      },
      "execution_count": 1,
      "outputs": [
        {
          "output_type": "stream",
          "name": "stdout",
          "text": [
            "원본 문자열 ==> Python\n",
            "변환 문지열==>pYTHON\n"
          ]
        }
      ]
    },
    {
      "cell_type": "code",
      "source": [
        "#!pip3 install ColabTurtle\n",
        "import ColabTurtle.Turtle as turtle\n",
        "\n"
      ],
      "metadata": {
        "id": "zbEU9j1ZX233"
      },
      "execution_count": null,
      "outputs": []
    }
  ]
}