{
  "nbformat": 4,
  "nbformat_minor": 0,
  "metadata": {
    "colab": {
      "name": "Untitled2.ipynb",
      "provenance": [],
      "authorship_tag": "ABX9TyPPti3FJEDtv7XtGGBbk7ML",
      "include_colab_link": true
    },
    "kernelspec": {
      "name": "python3",
      "display_name": "Python 3"
    },
    "language_info": {
      "name": "python"
    }
  },
  "cells": [
    {
      "cell_type": "markdown",
      "metadata": {
        "id": "view-in-github",
        "colab_type": "text"
      },
      "source": [
        "<a href=\"https://colab.research.google.com/github/junho0404/colab/blob/main/Untitled2.ipynb\" target=\"_parent\"><img src=\"https://colab.research.google.com/assets/colab-badge.svg\" alt=\"Open In Colab\"/></a>"
      ]
    },
    {
      "cell_type": "markdown",
      "source": [
        "형성평가: 편의점 하루 매출 계산하기"
      ],
      "metadata": {
        "id": "hyjIaIZW4NIm"
      }
    },
    {
      "cell_type": "code",
      "source": [
        "total = 0\n",
        "#구입\n",
        "total = total - (900 * 10) # 삼각김밥 10개\n",
        "#total -= (900*10)\n",
        "total =total- (3500*5) #도시락 5개\n",
        "#판매\n",
        "total = total + (1800*2) #바나나우유\n",
        "total = total + (4000*4) #도시락 4개\n",
        "total = total + 1500 #콜라4\n",
        "total = total + (2000*4) #새우깡\n",
        "total = total + (1800*5) #캔커피\n",
        "\n",
        "print(\"오늘 총 매충액은\" , total,\"입니다.\")"
      ],
      "metadata": {
        "colab": {
          "base_uri": "https://localhost:8080/"
        },
        "id": "pjga5uqj4UD-",
        "outputId": "0d3c6a7d-2481-4637-b9f0-d825dc29b35c"
      },
      "execution_count": 4,
      "outputs": [
        {
          "output_type": "stream",
          "name": "stdout",
          "text": [
            "오늘 총 매충액은 11600 입니다.\n"
          ]
        }
      ]
    }
  ]
}