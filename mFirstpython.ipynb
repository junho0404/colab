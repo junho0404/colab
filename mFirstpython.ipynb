{
  "nbformat": 4,
  "nbformat_minor": 0,
  "metadata": {
    "colab": {
      "name": "mFirstpython.ipynb",
      "provenance": [],
      "authorship_tag": "ABX9TyNvM9gqtUfr0Qdv8TtmXpUz",
      "include_colab_link": true
    },
    "kernelspec": {
      "name": "python3",
      "display_name": "Python 3"
    },
    "language_info": {
      "name": "python"
    }
  },
  "cells": [
    {
      "cell_type": "markdown",
      "metadata": {
        "id": "view-in-github",
        "colab_type": "text"
      },
      "source": [
        "<a href=\"https://colab.research.google.com/github/junho0404/colab/blob/main/mFirstpython.ipynb\" target=\"_parent\"><img src=\"https://colab.research.google.com/assets/colab-badge.svg\" alt=\"Open In Colab\"/></a>"
      ]
    },
    {
      "cell_type": "code",
      "execution_count": null,
      "metadata": {
        "id": "iePmfiv6O4Y5"
      },
      "outputs": [],
      "source": [
        "나의 첫 파이썬 프로그래밍"
      ]
    },
    {
      "cell_type": "code",
      "source": [
        "print(\"안녕~ 파이썬!!\")"
      ],
      "metadata": {
        "colab": {
          "base_uri": "https://localhost:8080/"
        },
        "id": "z2eYnJCAPSD7",
        "outputId": "99853dfb-63df-43ff-b6a8-d48db06bab79"
      },
      "execution_count": null,
      "outputs": [
        {
          "output_type": "stream",
          "name": "stdout",
          "text": [
            "안녕~ 파이썬!!\n"
          ]
        }
      ]
    },
    {
      "cell_type": "code",
      "source": [
        "print(\"컴퓨터과 30201\")"
      ],
      "metadata": {
        "id": "JwPdQHEdPury"
      },
      "execution_count": null,
      "outputs": []
    }
  ]
}