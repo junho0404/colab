{
  "nbformat": 4,
  "nbformat_minor": 0,
  "metadata": {
    "colab": {
      "name": "3201강준호(논술형).ipynb",
      "provenance": [],
      "authorship_tag": "ABX9TyMf5n4p/0fSbXUnwDlJ15v1",
      "include_colab_link": true
    },
    "kernelspec": {
      "name": "python3",
      "display_name": "Python 3"
    },
    "language_info": {
      "name": "python"
    }
  },
  "cells": [
    {
      "cell_type": "markdown",
      "metadata": {
        "id": "view-in-github",
        "colab_type": "text"
      },
      "source": [
        "<a href=\"https://colab.research.google.com/github/junho0404/colab/blob/main/3201%EA%B0%95%EC%A4%80%ED%98%B8(%EB%85%BC%EC%88%A0%ED%98%95).ipynb\" target=\"_parent\"><img src=\"https://colab.research.google.com/assets/colab-badge.svg\" alt=\"Open In Colab\"/></a>"
      ]
    },
    {
      "cell_type": "markdown",
      "source": [
        "컴퓨터과 3학년 2반 1번 강준호"
      ],
      "metadata": {
        "id": "E4E5HjfNFsyB"
      }
    },
    {
      "cell_type": "code",
      "source": [
        "num1 = float(input(\"첫번째 숫자를 입력해주세요==> \"))\n",
        "num2 = float(input(\"두번째 숫자를 입력해주세요==> \"))\n",
        "print(num1, \"+\", num2, \"=\", num1 + num2)\n",
        "print(num1, \"-\", num2, \"=\", num1 - num2)\n",
        "print(num1, \"*\", num2, \"=\", num1 * num2)\n",
        "print(num1, \"/\", num2, \"=\", num1 / num2)"
      ],
      "metadata": {
        "colab": {
          "base_uri": "https://localhost:8080/"
        },
        "id": "cTJdLWioFxlq",
        "outputId": "6032aef7-fca4-4553-f0fd-f805741cfd80"
      },
      "execution_count": 26,
      "outputs": [
        {
          "output_type": "stream",
          "name": "stdout",
          "text": [
            "첫번째 숫자를 입력해주세요==> 10\n",
            "두번째 숫자를 입력해주세요==> 60\n",
            "10.0 + 60.0 = 70.0\n",
            "10.0 - 60.0 = -50.0\n",
            "10.0 * 60.0 = 600.0\n"
          ]
        }
      ]
    }
  ]
}